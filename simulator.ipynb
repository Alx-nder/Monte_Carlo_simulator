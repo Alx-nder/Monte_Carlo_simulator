{
 "cells": [
  {
   "cell_type": "code",
   "execution_count": 113,
   "metadata": {},
   "outputs": [],
   "source": [
    "import numpy as np\n",
    "import matplotlib.pyplot as plt"
   ]
  },
  {
   "cell_type": "code",
   "execution_count": 114,
   "metadata": {},
   "outputs": [],
   "source": [
    "# modelling the arrival process\n",
    "# per second converyor belt\n",
    "# c1 uses the distribution that tells us how likely the time of the next arrival\n",
    "# a random value. "
   ]
  },
  {
   "cell_type": "code",
   "execution_count": 115,
   "metadata": {},
   "outputs": [],
   "source": [
    "# Exponential Random Number Algorithm\n",
    "def poisson_est(mean):\n",
    "    r=np.exp(-mean)\n",
    "    N=0.0\n",
    "    s=1.0\n",
    "    s*=np.random.random()\n",
    "    while s>r:\n",
    "        N+=1\n",
    "        s*=np.random.random()\n",
    "    else:\n",
    "        return int(N)"
   ]
  },
  {
   "cell_type": "code",
   "execution_count": 116,
   "metadata": {},
   "outputs": [
    {
     "data": {
      "text/plain": [
       "[2, 0, 1, 0, 2, 0, 1, 0, 0, 2]"
      ]
     },
     "execution_count": 116,
     "metadata": {},
     "output_type": "execute_result"
    }
   ],
   "source": [
    "# total number of entities conveyor1 delivers per second for 1000 seconds\n",
    "c1sample=[poisson_est(1)  for i in range(10)]\n",
    "np.array(c1sample).mean()\n",
    "c1sample\n"
   ]
  },
  {
   "cell_type": "code",
   "execution_count": 117,
   "metadata": {},
   "outputs": [
    {
     "data": {
      "text/plain": [
       "8"
      ]
     },
     "execution_count": 117,
     "metadata": {},
     "output_type": "execute_result"
    }
   ],
   "source": [
    "# total entities conveyor belt delivers\n",
    "totalc1=sum(c1sample)\n",
    "totalc1"
   ]
  },
  {
   "cell_type": "code",
   "execution_count": 118,
   "metadata": {},
   "outputs": [
    {
     "data": {
      "text/plain": [
       "666"
      ]
     },
     "execution_count": 118,
     "metadata": {},
     "output_type": "execute_result"
    }
   ],
   "source": [
    "def conveyor2(time):\n",
    "    # number of entities conveyor2 delivers over a given time\n",
    "    return (int(time/1.5))\n",
    "conveyor2(1000)"
   ]
  },
  {
   "cell_type": "code",
   "execution_count": 119,
   "metadata": {},
   "outputs": [],
   "source": [
    "def failtime(frate,time):\n",
    "    # per unit time\n",
    "    time=time%100\n",
    "    # cdf of failure \n",
    "    c_fail=1 - np.exp(-frate* time)\n",
    "    if(c_fail>=np.random.random()):\n",
    "        return time\n",
    "    else: \n",
    "        return 0    "
   ]
  },
  {
   "cell_type": "code",
   "execution_count": 120,
   "metadata": {},
   "outputs": [],
   "source": [
    "def failnow(frate,time):\n",
    "    # prob of failure in next second\n",
    "    p_fail=frate*np.exp(-frate*0)+ frate*np.exp(-frate*1)\n",
    "\n",
    "    if(p_fail>np.random.random()):\n",
    "        return time\n",
    "    else: \n",
    "        return 0 "
   ]
  },
  {
   "cell_type": "code",
   "execution_count": 121,
   "metadata": {},
   "outputs": [],
   "source": [
    "def fail_inverse():\n",
    "    # this gives the times between events\n",
    "    return (-1/0.01)*np.log(1-np.random.random())"
   ]
  },
  {
   "cell_type": "code",
   "execution_count": 122,
   "metadata": {},
   "outputs": [
    {
     "data": {
      "text/plain": [
       "array([  65,  338,  422,  638,  758,  830,  877, 1005, 1066, 1066, 1066,\n",
       "       1118, 1249, 1387, 1455, 1610, 1825, 1923, 1987, 2062, 2361, 2387,\n",
       "       2653, 2709, 2896, 3016, 3238, 3300, 3341, 3371, 3427, 3592, 3880,\n",
       "       4021, 4070, 4119, 4272, 4314, 4341, 4413, 4421, 4447, 4803, 4811,\n",
       "       4898, 4943, 4995, 5097, 5301, 5390, 5407, 5415, 5468, 5629, 5635,\n",
       "       5743, 5881, 5896, 6144, 6205, 6220, 6336, 6476, 6552, 6769, 6824,\n",
       "       6864, 6945, 7035, 7120, 7137, 7147, 7259, 7407, 7505, 7526, 7577,\n",
       "       7620, 7697, 7736, 7766, 7781, 7822, 8061, 8099, 8154, 8203, 8341,\n",
       "       8351, 8373, 8382, 8614, 8873, 8981, 9077, 9198, 9354, 9381, 9426,\n",
       "       9482, 9577, 9687, 9783])"
      ]
     },
     "execution_count": 122,
     "metadata": {},
     "output_type": "execute_result"
    }
   ],
   "source": [
    "# f=np.array([failnow(0.01,time) for time in range(10000)])\n",
    "f=[fail_inverse() for i in range(10000)]\n",
    "f=np.array(f).astype(int)\n",
    "f=np.cumsum(f)\n",
    "f=f[f<=10000]\n",
    "f"
   ]
  },
  {
   "cell_type": "code",
   "execution_count": 123,
   "metadata": {},
   "outputs": [],
   "source": [
    "# plt.plot(np.arange(0,10000),f)"
   ]
  },
  {
   "cell_type": "code",
   "execution_count": 124,
   "metadata": {},
   "outputs": [],
   "source": [
    "# for each second, check the \n",
    "def simulate(time):\n",
    "    C1event=[]\n",
    "    stationFailures=[]\n",
    "    completed=0\n",
    "    downtime=0\n",
    "    # stacks to count waiting entities at each conveyour belt C\n",
    "    stackC1=[]\n",
    "    stackC2=[]\n",
    "    def stackpop(stackC1,stackC2):\n",
    "        if stackC2[-1]==1:\n",
    "            stackC2.pop()\n",
    "        else:\n",
    "            stackC2[-1]-=1 \n",
    "        \n",
    "        if stackC1[-1]==1:\n",
    "            stackC1.pop() \n",
    "        else:\n",
    "            stackC1[-1]-=1\n",
    "            \n",
    "    def addtoC1(time_index,stackC1,C1event):\n",
    "            if C1event[time_index]==0:\n",
    "                return\n",
    "            if len(stackC1)==0:\n",
    "                stackC1.append(C1event[time_index])\n",
    "            else:\n",
    "                stackC1.append(C1event[time_index]+stackC1[-1])\n",
    "\n",
    "    # add a entity to the stack every 1.5 seconds\n",
    "    def addtoC2(time_index,stackC2):\n",
    "        time_index+=1\n",
    "        if time_index%1.5==0 or (time_index-0.5)%1.5==0:\n",
    "            if len(stackC2)==0:\n",
    "                stackC2.append(1)\n",
    "            else:\n",
    "                stackC2.append(stackC2[-1]+1)\n",
    "\n",
    "\n",
    "# simulate events with respect to random variables\n",
    "    for t in np.arange(time):\n",
    "        C1event.append(poisson_est(1))\n",
    "        stationFailures.append(failnow(0.01,t))\n",
    "\n",
    "    for time_index in np.arange(time):\n",
    "        if time_index>time-1:\n",
    "            return completed\n",
    "        \n",
    "        addtoC1(time_index,stackC1,C1event)\n",
    "        addtoC2(time_index,stackC2)\n",
    "\n",
    "        # if both parts are ready\n",
    "        if stackC1 and stackC2 and stackC1[-1]>0 and stackC2[-1]>0:\n",
    "            # check if the machine is not working\n",
    "            if stationFailures[time_index]>0:\n",
    "                for standyby in range(0,5):\n",
    "                    curr=standyby+time_index+1\n",
    "                    # conveyors run during downtime\n",
    "                    addtoC1(curr,stackC1,C1event)\n",
    "                    addtoC2(curr,stackC2)\n",
    "                downtime+=5\n",
    "                # machine fails close to the end of the testing time\n",
    "                if time_index+5>=time-1:\n",
    "                    return completed\n",
    "\n",
    "                # count continues 5 seconds after\n",
    "                time_index+=5\n",
    "                stackpop(stackC1,stackC2)\n",
    "            \n",
    "                completed+=1\n",
    "            else: #if the machine is working\n",
    "                # do this or a while loop - while there are parts\n",
    "                stackpop(stackC1,stackC2)\n",
    "                completed+=1\n",
    "        # print(\"\\npost\\nstackc2\",stackC2,\"\\nstackc1\",stackC1,'\\ntime',time_index,'\\n',completed,'\\n\\n')\n",
    "    return completed,downtime"
   ]
  },
  {
   "cell_type": "code",
   "execution_count": 127,
   "metadata": {},
   "outputs": [],
   "source": [
    "simulate(10)"
   ]
  },
  {
   "cell_type": "code",
   "execution_count": 126,
   "metadata": {},
   "outputs": [],
   "source": [
    "# will station1 do all work available instantly or one per unit time, while loop or one per iteration\n",
    "# can parts + downtime> total time\n",
    "# end behavior, produce or no\n"
   ]
  }
 ],
 "metadata": {
  "kernelspec": {
   "display_name": "Python 3",
   "language": "python",
   "name": "python3"
  },
  "language_info": {
   "codemirror_mode": {
    "name": "ipython",
    "version": 3
   },
   "file_extension": ".py",
   "mimetype": "text/x-python",
   "name": "python",
   "nbconvert_exporter": "python",
   "pygments_lexer": "ipython3",
   "version": "3.12.1"
  }
 },
 "nbformat": 4,
 "nbformat_minor": 2
}
