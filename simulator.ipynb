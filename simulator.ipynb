{
 "cells": [
  {
   "cell_type": "code",
   "execution_count": 2501,
   "metadata": {},
   "outputs": [],
   "source": [
    "import numpy as np\n",
    "import matplotlib.pyplot as plt"
   ]
  },
  {
   "cell_type": "code",
   "execution_count": 2502,
   "metadata": {},
   "outputs": [],
   "source": [
    "# modelling the arrival process\n",
    "\n",
    "# per second converyor belt\n",
    "\n",
    "conveyor1=1\n",
    "# c1 uses the distribution that tells us how likely the time of the next arrival\n",
    "# a random value. \n",
    "conveyor2=2/3\n",
    "\n",
    "stationFailrate=0.01\n",
    "stationmean=1/stationFailrate"
   ]
  },
  {
   "cell_type": "code",
   "execution_count": 2503,
   "metadata": {},
   "outputs": [],
   "source": [
    "# Exponential Random Number Algorithm\n",
    "def poisson_est(mean):\n",
    "    r=np.exp(-mean)\n",
    "    N=0.0\n",
    "    s=1.0\n",
    "    s*=np.random.random()\n",
    "    while s>r:\n",
    "        N+=1\n",
    "        s*=np.random.random()\n",
    "    else:\n",
    "        return N"
   ]
  },
  {
   "cell_type": "code",
   "execution_count": 2504,
   "metadata": {},
   "outputs": [],
   "source": [
    "# total number of entities conveyor1 delivers per second for 1000 seconds\n",
    "c1sample=[poisson_est(1)  for i in range(1000)]\n"
   ]
  },
  {
   "cell_type": "code",
   "execution_count": 2505,
   "metadata": {},
   "outputs": [
    {
     "data": {
      "text/plain": [
       "988.0"
      ]
     },
     "execution_count": 2505,
     "metadata": {},
     "output_type": "execute_result"
    }
   ],
   "source": [
    "# total entities conveyor belt delivers\n",
    "totalc1=sum(c1sample)\n",
    "totalc1"
   ]
  },
  {
   "cell_type": "code",
   "execution_count": 2506,
   "metadata": {},
   "outputs": [
    {
     "data": {
      "text/plain": [
       "666"
      ]
     },
     "execution_count": 2506,
     "metadata": {},
     "output_type": "execute_result"
    }
   ],
   "source": [
    "def conveyor2(time):\n",
    "    # number of entities conveyor2 delivers over a given time\n",
    "    return (int(time/1.5))\n",
    "conveyor2(1000)"
   ]
  },
  {
   "cell_type": "code",
   "execution_count": 2507,
   "metadata": {},
   "outputs": [],
   "source": [
    "def failtime(frate,time):\n",
    "    # per unit time\n",
    "    time=time%100\n",
    "    # cdf of failure \n",
    "    c_fail=1 - np.exp(-frate* time)\n",
    "    if(c_fail>=np.random.random()):\n",
    "        return time\n",
    "    else: \n",
    "        return 0    "
   ]
  },
  {
   "cell_type": "code",
   "execution_count": 2508,
   "metadata": {},
   "outputs": [],
   "source": [
    "def failnow(frate,time):\n",
    "    # prob of failure in next second\n",
    "    p_fail=frate*np.exp(-frate*0)+ frate*np.exp(-frate*1)\n",
    "\n",
    "    if(p_fail>=np.random.random()):\n",
    "        return time\n",
    "    else: \n",
    "        return 0 "
   ]
  },
  {
   "cell_type": "code",
   "execution_count": 2509,
   "metadata": {},
   "outputs": [
    {
     "data": {
      "text/plain": [
       "array([  95,  168,  297,  329,  346,  350,  358,  360,  373,  447,  503,\n",
       "        565,  569,  606,  655,  664,  742,  767,  768,  778,  852,  854,\n",
       "        868,  876,  882,  899,  915, 1004, 1006, 1060, 1098, 1100, 1228,\n",
       "       1238, 1279, 1394, 1409, 1446, 1467, 1530, 1577, 1595, 1597, 1632,\n",
       "       1656, 1795, 1810, 1829, 1834, 1876, 1928, 2014, 2092, 2182, 2249,\n",
       "       2262, 2298, 2433, 2460, 2581, 2629, 2648, 2852, 2866, 2996, 3013,\n",
       "       3080, 3122, 3214, 3220, 3316, 3423, 3577, 3587, 3707, 3764, 3797,\n",
       "       3820, 3841, 3954, 3961, 3965, 3967, 3982, 4091, 4343, 4355, 4437,\n",
       "       4469, 4479, 4634, 4660, 4809, 4875, 4975, 5017, 5041, 5075, 5088,\n",
       "       5163, 5176, 5241, 5292, 5498, 5582, 5592, 5593, 5616, 5698, 5733,\n",
       "       5784, 5791, 5851, 5905, 5931, 6049, 6226, 6397, 6556, 6572, 6594,\n",
       "       6687, 6763, 6786, 6794, 6910, 6939, 6950, 6962, 7039, 7108, 7153,\n",
       "       7241, 7263, 7296, 7309, 7349, 7377, 7440, 7643, 7704, 7721, 7814,\n",
       "       7856, 7903, 8093, 8097, 8133, 8246, 8315, 8387, 8401, 8409, 8415,\n",
       "       8487, 8494, 8541, 8554, 8625, 8632, 8658, 8662, 8766, 8833, 8837,\n",
       "       8891, 9044, 9097, 9123, 9164, 9183, 9266, 9267, 9351, 9430, 9450,\n",
       "       9717, 9719, 9789, 9861, 9939, 9955, 9966, 9980])"
      ]
     },
     "execution_count": 2509,
     "metadata": {},
     "output_type": "execute_result"
    }
   ],
   "source": [
    "f=np.array([failnow(0.01,time) for time in range(10000)])\n",
    "(10000-sum(f==0)) /10000\n",
    "# failtime=\n",
    "f[f!=0]\n",
    "\n"
   ]
  },
  {
   "cell_type": "code",
   "execution_count": 2510,
   "metadata": {},
   "outputs": [
    {
     "data": {
      "text/plain": [
       "[<matplotlib.lines.Line2D at 0x21b47838740>]"
      ]
     },
     "execution_count": 2510,
     "metadata": {},
     "output_type": "execute_result"
    },
    {
     "data": {
      "image/png": "[encoded data removed]",
      "text/plain": [
       "<Figure size 640x480 with 1 Axes>"
      ]
     },
     "metadata": {},
     "output_type": "display_data"
    }
   ],
   "source": [
    "f=f%100\n",
    "plt.plot(np.arange(0,10000),f)"
   ]
  },
  {
   "cell_type": "code",
   "execution_count": 2511,
   "metadata": {},
   "outputs": [],
   "source": [
    "# for each second, check the \n",
    "def simulate(time):\n",
    "    C1event=[]\n",
    "    stationFailures=[]\n",
    "    completed=0\n",
    "    downtime=0\n",
    "    # stacks to count waiting entities at each conveyour belt C\n",
    "    stackC1=[]\n",
    "    stackC2=[]\n",
    "    def stackpop(stackC1,stackC2):\n",
    "        if stackC2[-1]==1:\n",
    "            stackC2.pop()\n",
    "        else:\n",
    "            stackC2[-1]-=1 \n",
    "        \n",
    "        if stackC1[-1]==1:\n",
    "            stackC1.pop() \n",
    "        else:\n",
    "            stackC1[-1]==1\n",
    "            \n",
    "    def addtoC1(time_index,stackC1,C1event):\n",
    "            if len(stackC1)==0:\n",
    "                stackC1.append(C1event[time_index])\n",
    "            else:\n",
    "                stackC1.append(C1event[time_index]+stackC1[-1])\n",
    "\n",
    "    # add a entity to the stack every 1.5 seconds\n",
    "    def addtoC2(time_index,stackC2):\n",
    "        if (time_index==0):pass\n",
    "        if time_index%1.5==0:\n",
    "            if len(stackC2)==0:\n",
    "                stackC2.append(1)\n",
    "            else:\n",
    "                stackC2.append(stackC2[-1]+1)\n",
    "\n",
    "\n",
    "# simulate events with respect to random variables\n",
    "    for t in np.arange(time):\n",
    "        C1event.append(poisson_est(1))\n",
    "        stationFailures.append(failnow(0.01,t))\n",
    "\n",
    "    for time_index in np.arange(time):\n",
    "        \n",
    "        addtoC1(time_index,stackC1,C1event)\n",
    "        addtoC2(time_index,stackC2)\n",
    "\n",
    "        # if both parts are ready\n",
    "        if stackC1 and stackC2 and stackC1[-1]>0 and stackC2[-1]>0:\n",
    "            # check if the machine is working\n",
    "            if stationFailures[time_index]>0:\n",
    "                for standyby in range(1,6):\n",
    "                    curr=standyby+time_index\n",
    "                    # conveyors run during downtime\n",
    "                    addtoC1(curr,stackC1,C1event)\n",
    "                    addtoC2(curr,stackC2)\n",
    "                downtime+=5\n",
    "                # machine fails close to the end of the testing time\n",
    "                if time_index+5>=time-1:\n",
    "                    return completed\n",
    "\n",
    "                # count continues 5 seconds after\n",
    "                time_index+=5\n",
    "                stackpop(stackC1,stackC2)\n",
    "            \n",
    "                completed+=1\n",
    "            else: #if the machine is working\n",
    "                # do this or a while loop - while there are parts\n",
    "                stackpop(stackC1,stackC2)\n",
    "                completed+=1\n",
    "        # print(\"\\npost\\nstackc2\",stackC2,\"\\nstackc1\",stackC1,'\\ntime',time_index,'\\n',completed,'\\n\\n')\n",
    "    return completed,downtime"
   ]
  },
  {
   "cell_type": "code",
   "execution_count": 2512,
   "metadata": {},
   "outputs": [
    {
     "data": {
      "text/plain": [
       "(34, 0)"
      ]
     },
     "execution_count": 2512,
     "metadata": {},
     "output_type": "execute_result"
    }
   ],
   "source": [
    "simulate(100)"
   ]
  },
  {
   "cell_type": "code",
   "execution_count": 2513,
   "metadata": {},
   "outputs": [],
   "source": [
    "# will station1 do all work available instantly or one per unit time, while loop or one per iteration\n",
    "# can parts + downtime> total time\n",
    "# end behavior, produce or no"
   ]
  }
 ],
 "metadata": {
  "kernelspec": {
   "display_name": "Python 3",
   "language": "python",
   "name": "python3"
  },
  "language_info": {
   "codemirror_mode": {
    "name": "ipython",
    "version": 3
   },
   "file_extension": ".py",
   "mimetype": "text/x-python",
   "name": "python",
   "nbconvert_exporter": "python",
   "pygments_lexer": "ipython3",
   "version": "3.12.1"
  }
 },
 "nbformat": 4,
 "nbformat_minor": 2
}
