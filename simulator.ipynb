{
 "cells": [
  {
   "cell_type": "code",
   "execution_count": 406,
   "metadata": {},
   "outputs": [],
   "source": [
    "import numpy as np\n",
    "import matplotlib.pyplot as plt"
   ]
  },
  {
   "cell_type": "code",
   "execution_count": 407,
   "metadata": {},
   "outputs": [],
   "source": [
    "# modelling the arrival process\n",
    "\n",
    "# per second converyor belt\n",
    "\n",
    "conveyor1=1\n",
    "# c1 uses the distribution that tells us how likely the time of the next arrival\n",
    "# a random value. \n",
    "conveyor2=2/3\n",
    "\n",
    "stationFailrate=0.01\n",
    "stationmean=1/stationFailrate"
   ]
  },
  {
   "cell_type": "code",
   "execution_count": 408,
   "metadata": {},
   "outputs": [],
   "source": [
    "# Exponential Random Number Algorithm\n",
    "def poisson_est(mean):\n",
    "    r=np.exp(-mean)\n",
    "    N=0.0\n",
    "    s=1.0\n",
    "    s*=np.random.random()\n",
    "    while s>r:\n",
    "        N+=1\n",
    "        s*=np.random.random()\n",
    "    else:\n",
    "        return N"
   ]
  },
  {
   "cell_type": "code",
   "execution_count": 409,
   "metadata": {},
   "outputs": [],
   "source": [
    "# total number of entities conveyor1 delivers per second for 1000 seconds\n",
    "c1sample=[poisson_est(1)  for i in range(1000)]\n"
   ]
  },
  {
   "cell_type": "code",
   "execution_count": 410,
   "metadata": {},
   "outputs": [
    {
     "data": {
      "text/plain": [
       "1001.0"
      ]
     },
     "execution_count": 410,
     "metadata": {},
     "output_type": "execute_result"
    }
   ],
   "source": [
    "# total entities conveyor belt delivers\n",
    "totalc1=sum(c1sample)\n",
    "totalc1"
   ]
  },
  {
   "cell_type": "code",
   "execution_count": 411,
   "metadata": {},
   "outputs": [
    {
     "data": {
      "text/plain": [
       "666"
      ]
     },
     "execution_count": 411,
     "metadata": {},
     "output_type": "execute_result"
    }
   ],
   "source": [
    "def conveyor2(time):\n",
    "    # number of entities conveyor2 delivers over a given time\n",
    "    return (int(time/1.5))\n",
    "conveyor2(1000)"
   ]
  },
  {
   "cell_type": "code",
   "execution_count": 416,
   "metadata": {},
   "outputs": [],
   "source": [
    "def failtime(frate,time):\n",
    "    # per unit time\n",
    "    time=time%100\n",
    "    # cdf of failure \n",
    "    c_fail=1 - np.exp(-frate* time)\n",
    "    if(c_fail>=np.random.random()):\n",
    "        return time\n",
    "    else: \n",
    "        return 0    "
   ]
  },
  {
   "cell_type": "code",
   "execution_count": null,
   "metadata": {},
   "outputs": [],
   "source": [
    "f=np.array([failtime(0.01,time) for time in range(10000)])\n",
    "(10000-sum(f==0)) /10000"
   ]
  },
  {
   "cell_type": "code",
   "execution_count": 456,
   "metadata": {},
   "outputs": [
    {
     "data": {
      "text/plain": [
       "(array([6413.,  133.,  215.,  291.,  349.,  428.,  465.,  501.,  585.,\n",
       "         620.]),\n",
       " array([ 0. ,  9.9, 19.8, 29.7, 39.6, 49.5, 59.4, 69.3, 79.2, 89.1, 99. ]),\n",
       " <BarContainer object of 10 artists>)"
      ]
     },
     "execution_count": 456,
     "metadata": {},
     "output_type": "execute_result"
    },
    {
     "data": {
      "image/png": "[encoded data removed]",
      "text/plain": [
       "<Figure size 640x480 with 1 Axes>"
      ]
     },
     "metadata": {},
     "output_type": "display_data"
    }
   ],
   "source": [
    "plt.hist([failtime(0.01,time) for time in range(10000)])"
   ]
  }
 ],
 "metadata": {
  "kernelspec": {
   "display_name": "Python 3",
   "language": "python",
   "name": "python3"
  },
  "language_info": {
   "codemirror_mode": {
    "name": "ipython",
    "version": 3
   },
   "file_extension": ".py",
   "mimetype": "text/x-python",
   "name": "python",
   "nbconvert_exporter": "python",
   "pygments_lexer": "ipython3",
   "version": "3.12.1"
  }
 },
 "nbformat": 4,
 "nbformat_minor": 2
}
