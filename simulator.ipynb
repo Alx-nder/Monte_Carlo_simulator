{
 "cells": [
  {
   "cell_type": "code",
   "execution_count": 802,
   "metadata": {},
   "outputs": [],
   "source": [
    "import numpy as np\n",
    "import matplotlib.pyplot as plt"
   ]
  },
  {
   "cell_type": "code",
   "execution_count": 803,
   "metadata": {},
   "outputs": [],
   "source": [
    "# modelling the arrival process\n",
    "# per second converyor belt\n",
    "# c1 uses the distribution that tells us how likely the time of the next arrival\n",
    "# a random value. "
   ]
  },
  {
   "cell_type": "code",
   "execution_count": 804,
   "metadata": {},
   "outputs": [],
   "source": [
    "# Exponential Random Number Algorithm\n",
    "def poisson_est(mean):\n",
    "    r=np.exp(-mean)\n",
    "    N=0.0\n",
    "    s=1.0\n",
    "    s*=np.random.random()\n",
    "    while s>r:\n",
    "        N+=1\n",
    "        s*=np.random.random()\n",
    "    else:\n",
    "        return int(N)"
   ]
  },
  {
   "cell_type": "code",
   "execution_count": 805,
   "metadata": {},
   "outputs": [],
   "source": [
    "# total number of entities conveyor1 delivers per second for 1000 seconds\n",
    "c1sample=[poisson_est(1)  for i in range(1000)]\n"
   ]
  },
  {
   "cell_type": "code",
   "execution_count": 806,
   "metadata": {},
   "outputs": [
    {
     "data": {
      "text/plain": [
       "960"
      ]
     },
     "execution_count": 806,
     "metadata": {},
     "output_type": "execute_result"
    }
   ],
   "source": [
    "# total entities conveyor belt delivers\n",
    "totalc1=sum(c1sample)\n",
    "totalc1"
   ]
  },
  {
   "cell_type": "code",
   "execution_count": 807,
   "metadata": {},
   "outputs": [
    {
     "data": {
      "text/plain": [
       "666"
      ]
     },
     "execution_count": 807,
     "metadata": {},
     "output_type": "execute_result"
    }
   ],
   "source": [
    "def conveyor2(time):\n",
    "    # number of entities conveyor2 delivers over a given time\n",
    "    return (int(time/1.5))\n",
    "conveyor2(1000)"
   ]
  },
  {
   "cell_type": "code",
   "execution_count": 808,
   "metadata": {},
   "outputs": [],
   "source": [
    "def failtime(frate,time):\n",
    "    # per unit time\n",
    "    time=time%100\n",
    "    # cdf of failure \n",
    "    c_fail=1 - np.exp(-frate* time)\n",
    "    if(c_fail>=np.random.random()):\n",
    "        return time\n",
    "    else: \n",
    "        return 0    "
   ]
  },
  {
   "cell_type": "code",
   "execution_count": 809,
   "metadata": {},
   "outputs": [],
   "source": [
    "def failnow(frate,time):\n",
    "    # prob of failure in next second\n",
    "    p_fail=frate*np.exp(-frate*0)+ frate*np.exp(-frate*1)\n",
    "\n",
    "    if(p_fail>=np.random.random()):\n",
    "        return time\n",
    "    else: \n",
    "        return 0 "
   ]
  },
  {
   "cell_type": "code",
   "execution_count": 810,
   "metadata": {},
   "outputs": [
    {
     "data": {
      "text/plain": [
       "array([ 143,  165,  168,  336,  409,  459,  508,  515,  534,  706,  707,\n",
       "        709,  764,  774,  906,  929,  973,  979, 1102, 1166, 1299, 1304,\n",
       "       1363, 1371, 1374, 1380, 1447, 1466, 1486, 1515, 1520, 1567, 1570,\n",
       "       1596, 1649, 1692, 1694, 1717, 1753, 1809, 1824, 1834, 1999, 2084,\n",
       "       2173, 2232, 2251, 2313, 2321, 2351, 2428, 2433, 2477, 2670, 2681,\n",
       "       2706, 2719, 2733, 2796, 2841, 2868, 2977, 2982, 3020, 3049, 3098,\n",
       "       3113, 3150, 3159, 3360, 3392, 3407, 3432, 3454, 3653, 3716, 3741,\n",
       "       3782, 3847, 4015, 4131, 4168, 4207, 4224, 4286, 4301, 4372, 4411,\n",
       "       4482, 4533, 4541, 4654, 4741, 4744, 4795, 4808, 4874, 4878, 4945,\n",
       "       5021, 5084, 5136, 5159, 5168, 5191, 5197, 5331, 5336, 5357, 5379,\n",
       "       5393, 5401, 5552, 5683, 5760, 5807, 5895, 5925, 6087, 6119, 6161,\n",
       "       6225, 6339, 6414, 6439, 6463, 6471, 6529, 6573, 6589, 6663, 6683,\n",
       "       6747, 6763, 6896, 6937, 7001, 7019, 7030, 7033, 7039, 7266, 7327,\n",
       "       7342, 7402, 7409, 7449, 7456, 7463, 7464, 7466, 7503, 7510, 7625,\n",
       "       7788, 7823, 7881, 7907, 7918, 7960, 8013, 8025, 8136, 8258, 8364,\n",
       "       8414, 8490, 8535, 8536, 8624, 8742, 8903, 9007, 9066, 9107, 9136,\n",
       "       9168, 9352, 9392, 9421, 9464, 9475, 9558, 9565, 9624, 9648, 9659,\n",
       "       9684, 9703, 9752, 9806, 9974, 9987])"
      ]
     },
     "execution_count": 810,
     "metadata": {},
     "output_type": "execute_result"
    }
   ],
   "source": [
    "f=np.array([failnow(0.01,time) for time in range(10000)])\n",
    "(10000-sum(f==0)) /10000\n",
    "# failtime=\n",
    "f[f!=0]"
   ]
  },
  {
   "cell_type": "code",
   "execution_count": 811,
   "metadata": {},
   "outputs": [
    {
     "data": {
      "text/plain": [
       "[<matplotlib.lines.Line2D at 0x1f6f11a6d50>]"
      ]
     },
     "execution_count": 811,
     "metadata": {},
     "output_type": "execute_result"
    },
    {
     "data": {
      "image/png": "[encoded data removed]",
      "text/plain": [
       "<Figure size 640x480 with 1 Axes>"
      ]
     },
     "metadata": {},
     "output_type": "display_data"
    }
   ],
   "source": [
    "f=f%100\n",
    "plt.plot(np.arange(0,10000),f)"
   ]
  },
  {
   "cell_type": "code",
   "execution_count": 812,
   "metadata": {},
   "outputs": [],
   "source": [
    "# for each second, check the \n",
    "def simulate(time):\n",
    "    C1event=[]\n",
    "    stationFailures=[]\n",
    "    completed=0\n",
    "    downtime=0\n",
    "    # stacks to count waiting entities at each conveyour belt C\n",
    "    stackC1=[]\n",
    "    stackC2=[]\n",
    "    def stackpop(stackC1,stackC2):\n",
    "        if stackC2[-1]==1:\n",
    "            stackC2.pop()\n",
    "        else:\n",
    "            stackC2[-1]-=1 \n",
    "        \n",
    "        if stackC1[-1]==1:\n",
    "            stackC1.pop() \n",
    "        else:\n",
    "            stackC1[-1]==1\n",
    "            \n",
    "    def addtoC1(time_index,stackC1,C1event):\n",
    "            if not stackC1:\n",
    "                stackC1.append(C1event[time_index])\n",
    "            else:\n",
    "                print(time_index,C1event[time_index],stackC1[-1],stackC2)\n",
    "                stackC1.append(C1event[time_index]+stackC1[-1])\n",
    "\n",
    "    # add a entity to the stack every 1.5 seconds\n",
    "    def addtoC2(time_index,stackC2):\n",
    "        if (time_index==0):pass\n",
    "        if time_index%1.5==0 or (time_index-0.5)%1.5==0:\n",
    "            if len(stackC2)==0:\n",
    "                stackC2.append(1)\n",
    "            else:\n",
    "                stackC2.append(stackC2[-1]+1)\n",
    "\n",
    "\n",
    "# simulate events with respect to random variables\n",
    "    for t in np.arange(time):\n",
    "        C1event.append(poisson_est(1))\n",
    "        stationFailures.append(failnow(0.01,t))\n",
    "\n",
    "    for time_index in np.arange(time):\n",
    "        if time_index>time-1:\n",
    "            return completed\n",
    "        \n",
    "        addtoC1(time_index,stackC1,C1event)\n",
    "        addtoC2(time_index,stackC2)\n",
    "\n",
    "        # if both parts are ready\n",
    "        if stackC1 and stackC2 and stackC1[-1]>0 and stackC2[-1]>0:\n",
    "            # check if the machine is working\n",
    "            if stationFailures[time_index]>0:\n",
    "                for standyby in range(1,6):\n",
    "                    curr=standyby+time_index\n",
    "                    # conveyors run during downtime\n",
    "                    addtoC1(curr,stackC1,C1event)\n",
    "                    addtoC2(curr,stackC2)\n",
    "                downtime+=5\n",
    "                # machine fails close to the end of the testing time\n",
    "                if time_index+5>=time-1:\n",
    "                    return completed\n",
    "\n",
    "                # count continues 5 seconds after\n",
    "                time_index+=5\n",
    "                stackpop(stackC1,stackC2)\n",
    "            \n",
    "                completed+=1\n",
    "            else: #if the machine is working\n",
    "                # do this or a while loop - while there are parts\n",
    "                stackpop(stackC1,stackC2)\n",
    "                completed+=1\n",
    "        # print(\"\\npost\\nstackc2\",stackC2,\"\\nstackc1\",stackC1,'\\ntime',time_index,'\\n',completed,'\\n\\n')\n",
    "    return completed,downtime"
   ]
  },
  {
   "cell_type": "code",
   "execution_count": 823,
   "metadata": {},
   "outputs": [
    {
     "name": "stdout",
     "output_type": "stream",
     "text": [
      "1 0 0 [1]\n",
      "2 2 0 [1]\n",
      "3 4 2 [1, 1]\n",
      "4 0 6 [1, 1, 1]\n",
      "5 1 6 [1, 1]\n",
      "6 2 7 [1, 1, 1]\n",
      "7 2 9 [1, 1, 1, 1]\n",
      "8 2 11 [1, 1, 1]\n",
      "9 2 13 [1, 1, 1, 1]\n"
     ]
    },
    {
     "data": {
      "text/plain": [
       "(8, 0)"
      ]
     },
     "execution_count": 823,
     "metadata": {},
     "output_type": "execute_result"
    }
   ],
   "source": [
    "simulate(10)"
   ]
  },
  {
   "cell_type": "code",
   "execution_count": 814,
   "metadata": {},
   "outputs": [
    {
     "data": {
      "text/plain": [
       "0"
      ]
     },
     "execution_count": 814,
     "metadata": {},
     "output_type": "execute_result"
    }
   ],
   "source": [
    "# will station1 do all work available instantly or one per unit time, while loop or one per iteration\n",
    "# can parts + downtime> total time\n",
    "# end behavior, produce or no\n",
    "ls=[0,1]\n",
    "ls.pop()\n",
    "ls[-1]"
   ]
  }
 ],
 "metadata": {
  "kernelspec": {
   "display_name": "Python 3",
   "language": "python",
   "name": "python3"
  },
  "language_info": {
   "codemirror_mode": {
    "name": "ipython",
    "version": 3
   },
   "file_extension": ".py",
   "mimetype": "text/x-python",
   "name": "python",
   "nbconvert_exporter": "python",
   "pygments_lexer": "ipython3",
   "version": "3.12.1"
  }
 },
 "nbformat": 4,
 "nbformat_minor": 2
}
