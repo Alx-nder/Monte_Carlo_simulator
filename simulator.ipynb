{
 "cells": [
  {
   "cell_type": "code",
   "execution_count": 194,
   "metadata": {},
   "outputs": [],
   "source": [
    "import numpy as np\n",
    "import matplotlib.pyplot as plt"
   ]
  },
  {
   "cell_type": "code",
   "execution_count": 195,
   "metadata": {},
   "outputs": [],
   "source": [
    "# modelling the arrival process\n",
    "\n",
    "# per second converyor belt\n",
    "\n",
    "conveyor1=1\n",
    "# c1 uses the distribution that tells us how likely the time of the next arrival\n",
    "# a random value. \n",
    "conveyor2=2/3\n",
    "\n",
    "stationFailrate=0.01\n",
    "stationmean=1/stationFailrate"
   ]
  },
  {
   "cell_type": "code",
   "execution_count": 196,
   "metadata": {},
   "outputs": [],
   "source": [
    "# Exponential Random Number Algorithm\n",
    "def poisson_est(mean):\n",
    "    r=np.exp(-mean)\n",
    "    N=0.0\n",
    "    s=1.0\n",
    "    s*=np.random.random()\n",
    "    while s>r:\n",
    "        N+=1\n",
    "        s*=np.random.random()\n",
    "    else:\n",
    "        return N"
   ]
  },
  {
   "cell_type": "code",
   "execution_count": 197,
   "metadata": {},
   "outputs": [],
   "source": [
    "# total number of entities conveyor1 delivers per second for 1000 seconds\n",
    "c1sample=[poisson_est(1)  for i in range(1000)]\n"
   ]
  },
  {
   "cell_type": "code",
   "execution_count": 198,
   "metadata": {},
   "outputs": [
    {
     "data": {
      "text/plain": [
       "987.0"
      ]
     },
     "execution_count": 198,
     "metadata": {},
     "output_type": "execute_result"
    }
   ],
   "source": [
    "# total entities conveyor belt delivers\n",
    "totalc1=sum(c1sample)\n",
    "totalc1"
   ]
  },
  {
   "cell_type": "code",
   "execution_count": 199,
   "metadata": {},
   "outputs": [
    {
     "data": {
      "text/plain": [
       "666"
      ]
     },
     "execution_count": 199,
     "metadata": {},
     "output_type": "execute_result"
    }
   ],
   "source": [
    "def conveyor2(time):\n",
    "    # number of entities conveyor2 delivers over a given time\n",
    "    return (int(time/1.5))\n",
    "conveyor2(1000)"
   ]
  },
  {
   "cell_type": "code",
   "execution_count": 200,
   "metadata": {},
   "outputs": [],
   "source": [
    "def failtime(frate,time):\n",
    "    # per unit time\n",
    "    time=time%100\n",
    "    # cdf of failure \n",
    "    c_fail=1 - np.exp(-frate* time)\n",
    "    if(c_fail>=np.random.random()):\n",
    "        return time\n",
    "    else: \n",
    "        return 0    "
   ]
  },
  {
   "cell_type": "code",
   "execution_count": 201,
   "metadata": {},
   "outputs": [],
   "source": [
    "def failnow(frate,time):\n",
    "    # prob of failure in next second\n",
    "    p_fail=frate*np.exp(-frate*0)+ frate*np.exp(-frate*1)\n",
    "\n",
    "    if(p_fail>=np.random.random()):\n",
    "        return time\n",
    "    else: \n",
    "        return 0 "
   ]
  },
  {
   "cell_type": "code",
   "execution_count": 202,
   "metadata": {},
   "outputs": [
    {
     "data": {
      "text/plain": [
       "array([  32,   40,  122,  174,  183,  265,  277,  338,  372,  415,  456,\n",
       "        480,  484,  489,  499,  601,  647,  668,  671,  737,  795,  844,\n",
       "        891,  905,  960, 1078, 1196, 1227, 1368, 1508, 1560, 1566, 1568,\n",
       "       1605, 1621, 1672, 1717, 1788, 1837, 1900, 1920, 1954, 2035, 2057,\n",
       "       2062, 2226, 2316, 2424, 2502, 2553, 2556, 2650, 2677, 2715, 2732,\n",
       "       2735, 2764, 2808, 2827, 3009, 3169, 3300, 3309, 3406, 3445, 3449,\n",
       "       3465, 3471, 3497, 3509, 3541, 3558, 3595, 3724, 3755, 3800, 3825,\n",
       "       3831, 3928, 3935, 3939, 3951, 3968, 3987, 3994, 4002, 4012, 4017,\n",
       "       4057, 4081, 4104, 4116, 4265, 4329, 4331, 4348, 4353, 4441, 4451,\n",
       "       4653, 4668, 4752, 4796, 4799, 4855, 4997, 5013, 5040, 5064, 5110,\n",
       "       5134, 5182, 5220, 5301, 5345, 5354, 5402, 5407, 5411, 5415, 5608,\n",
       "       5949, 5969, 6035, 6050, 6180, 6181, 6192, 6229, 6270, 6300, 6340,\n",
       "       6415, 6533, 6652, 6667, 6673, 6717, 6741, 6772, 6872, 6875, 6886,\n",
       "       6917, 6944, 6974, 7060, 7117, 7200, 7247, 7317, 7332, 7477, 7484,\n",
       "       7499, 7706, 7718, 7757, 7808, 7810, 7819, 7914, 7989, 8010, 8029,\n",
       "       8039, 8162, 8192, 8204, 8216, 8226, 8339, 8448, 8450, 8611, 8673,\n",
       "       8732, 8739, 8791, 8801, 8942, 8972, 9012, 9041, 9054, 9148, 9156,\n",
       "       9249, 9296, 9297, 9361, 9392, 9394, 9412, 9540, 9603, 9765, 9808,\n",
       "       9877, 9895, 9901])"
      ]
     },
     "execution_count": 202,
     "metadata": {},
     "output_type": "execute_result"
    }
   ],
   "source": [
    "f=np.array([failnow(0.01,time) for time in range(10000)])\n",
    "(10000-sum(f==0)) /10000\n",
    "# failtime=\n",
    "f[f!=0]\n",
    "\n"
   ]
  },
  {
   "cell_type": "code",
   "execution_count": 203,
   "metadata": {},
   "outputs": [
    {
     "data": {
      "text/plain": [
       "[<matplotlib.lines.Line2D at 0x21b093efd10>]"
      ]
     },
     "execution_count": 203,
     "metadata": {},
     "output_type": "execute_result"
    },
    {
     "data": {
      "image/png": "[encoded data removed]",
      "text/plain": [
       "<Figure size 640x480 with 1 Axes>"
      ]
     },
     "metadata": {},
     "output_type": "display_data"
    }
   ],
   "source": [
    "f=f%100\n",
    "plt.plot(np.arange(0,10000),f)"
   ]
  },
  {
   "cell_type": "code",
   "execution_count": 204,
   "metadata": {},
   "outputs": [],
   "source": [
    "# for each second, check the \n",
    "def simulate(time):\n",
    "    C1event=[]\n",
    "    stationFailures=[]\n",
    "    completed=0\n",
    "\n",
    "    # stacks to count waiting entities at each conveyour belt C\n",
    "    stackC1=[]\n",
    "    stackC2=[]\n",
    "    def addtoC1(time_index,stackC1,C1event):\n",
    "            if len(stackC1)==0:\n",
    "                stackC1.append(C1event[time_index])\n",
    "            else:\n",
    "                stackC1.append(C1event[time_index]+stackC1[-1])\n",
    "\n",
    "    # add a entity to the stack every 1.5 seconds\n",
    "    def addtoC2(time_index,stackC2):\n",
    "        if time_index%1.5==0:\n",
    "            if len(stackC2)==0:\n",
    "                stackC2.append(1)\n",
    "            else:\n",
    "                stackC2.append(stackC2[-1]+1)\n",
    "        else:\n",
    "            pass\n",
    "\n",
    "\n",
    "\n",
    "# simulate events with respect to random variables\n",
    "    for t in np.arange(0,time):\n",
    "        C1event.append(poisson_est(1))\n",
    "        stationFailures.append(failnow(0.01,t))\n",
    "\n",
    "    for time_index in np.arange(0,time):\n",
    "        addtoC1(time_index,stackC1,C1event)\n",
    "        addtoC2(time_index,stackC2)\n",
    "        \n",
    "        # if both parts are ready\n",
    "        if stackC1 and stackC2 and stackC1[-1]>0 and stackC2[-1]>0:\n",
    "            # check if the machine is working\n",
    "            if stationFailures[time_index]>0:\n",
    "                for standyby in range(5):\n",
    "                    curr=standyby+1+time_index\n",
    "\n",
    "                    # conveyors run during downtime\n",
    "                    addtoC1(curr,stackC1,C1event)\n",
    "                    addtoC2(curr,stackC2)\n",
    "\n",
    "                # count continues 5 seconds after\n",
    "                if time_index+5==time:\n",
    "                    return completed\n",
    "\n",
    "                # else\n",
    "                time_index+=5\n",
    "                completed+=1\n",
    "            else: #if the machine is working\n",
    "                completed+=1\n",
    "    return completed\n",
    "\n"
   ]
  },
  {
   "cell_type": "code",
   "execution_count": 205,
   "metadata": {},
   "outputs": [
    {
     "data": {
      "text/plain": [
       "10000"
      ]
     },
     "execution_count": 205,
     "metadata": {},
     "output_type": "execute_result"
    }
   ],
   "source": [
    "simulate(10000)"
   ]
  }
 ],
 "metadata": {
  "kernelspec": {
   "display_name": "Python 3",
   "language": "python",
   "name": "python3"
  },
  "language_info": {
   "codemirror_mode": {
    "name": "ipython",
    "version": 3
   },
   "file_extension": ".py",
   "mimetype": "text/x-python",
   "name": "python",
   "nbconvert_exporter": "python",
   "pygments_lexer": "ipython3",
   "version": "3.12.1"
  }
 },
 "nbformat": 4,
 "nbformat_minor": 2
}
