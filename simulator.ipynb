{
 "cells": [
  {
   "cell_type": "code",
   "execution_count": 937,
   "metadata": {},
   "outputs": [],
   "source": [
    "import numpy as np\n",
    "import matplotlib.pyplot as plt"
   ]
  },
  {
   "cell_type": "code",
   "execution_count": 938,
   "metadata": {},
   "outputs": [],
   "source": [
    "# modelling the arrival process\n",
    "\n",
    "# per second converyor belt\n",
    "\n",
    "conveyor1=1\n",
    "# c1 uses the distribution that tells us how likely the time of the next arrival\n",
    "# a random value. \n",
    "conveyor2=2/3\n",
    "\n",
    "stationFailrate=0.01\n",
    "stationmean=1/stationFailrate"
   ]
  },
  {
   "cell_type": "code",
   "execution_count": 939,
   "metadata": {},
   "outputs": [],
   "source": [
    "# Exponential Random Number Algorithm\n",
    "def poisson_est(mean):\n",
    "    r=np.exp(-mean)\n",
    "    N=0.0\n",
    "    s=1.0\n",
    "    s*=np.random.random()\n",
    "    while s>r:\n",
    "        N+=1\n",
    "        s*=np.random.random()\n",
    "    else:\n",
    "        return N"
   ]
  },
  {
   "cell_type": "code",
   "execution_count": 940,
   "metadata": {},
   "outputs": [],
   "source": [
    "# total number of entities conveyor1 delivers per second for 1000 seconds\n",
    "c1sample=[poisson_est(1)  for i in range(1000)]\n"
   ]
  },
  {
   "cell_type": "code",
   "execution_count": 941,
   "metadata": {},
   "outputs": [
    {
     "data": {
      "text/plain": [
       "1031.0"
      ]
     },
     "execution_count": 941,
     "metadata": {},
     "output_type": "execute_result"
    }
   ],
   "source": [
    "# total entities conveyor belt delivers\n",
    "totalc1=sum(c1sample)\n",
    "totalc1"
   ]
  },
  {
   "cell_type": "code",
   "execution_count": 942,
   "metadata": {},
   "outputs": [
    {
     "data": {
      "text/plain": [
       "666"
      ]
     },
     "execution_count": 942,
     "metadata": {},
     "output_type": "execute_result"
    }
   ],
   "source": [
    "def conveyor2(time):\n",
    "    # number of entities conveyor2 delivers over a given time\n",
    "    return (int(time/1.5))\n",
    "conveyor2(1000)"
   ]
  },
  {
   "cell_type": "code",
   "execution_count": 943,
   "metadata": {},
   "outputs": [],
   "source": [
    "def failtime(frate,time):\n",
    "    # per unit time\n",
    "    time=time%100\n",
    "    # cdf of failure \n",
    "    c_fail=1 - np.exp(-frate* time)\n",
    "    if(c_fail>=np.random.random()):\n",
    "        return time\n",
    "    else: \n",
    "        return 0    "
   ]
  },
  {
   "cell_type": "code",
   "execution_count": 944,
   "metadata": {},
   "outputs": [],
   "source": [
    "def failnow(frate,time):\n",
    "    # prob of failure in next second\n",
    "    p_fail=frate*np.exp(-frate*0)+ frate*np.exp(-frate*1)\n",
    "\n",
    "    if(p_fail>=np.random.random()):\n",
    "        return time\n",
    "    else: \n",
    "        return 0 "
   ]
  },
  {
   "cell_type": "code",
   "execution_count": 945,
   "metadata": {},
   "outputs": [
    {
     "data": {
      "text/plain": [
       "array([  18,   24,   30,  213,  253,  255,  256,  280,  305,  376,  423,\n",
       "        424,  488,  524,  682,  715,  783,  790,  888,  915,  941, 1012,\n",
       "       1064, 1089, 1111, 1135, 1238, 1331, 1489, 1491, 1613, 1630, 1711,\n",
       "       1786, 1873, 1898, 2112, 2140, 2147, 2158, 2208, 2220, 2237, 2250,\n",
       "       2297, 2454, 2530, 2562, 2578, 2633, 2732, 2748, 2772, 2818, 2824,\n",
       "       2828, 2943, 2966, 3102, 3118, 3144, 3170, 3225, 3228, 3255, 3273,\n",
       "       3380, 3394, 3399, 3446, 3540, 3582, 3584, 3602, 3656, 3689, 3708,\n",
       "       3718, 3733, 3798, 3807, 3888, 4028, 4054, 4084, 4106, 4135, 4161,\n",
       "       4168, 4204, 4214, 4243, 4245, 4265, 4310, 4393, 4413, 4437, 4453,\n",
       "       4586, 4648, 4661, 4671, 4714, 4715, 4761, 4901, 4918, 5035, 5178,\n",
       "       5185, 5248, 5283, 5334, 5433, 5527, 5530, 5575, 5578, 5600, 5663,\n",
       "       5908, 6153, 6175, 6176, 6183, 6189, 6219, 6309, 6404, 6439, 6520,\n",
       "       6563, 6580, 6628, 6710, 6742, 6753, 6760, 6857, 6870, 6886, 6891,\n",
       "       6953, 6957, 6979, 6994, 7317, 7352, 7475, 7479, 7483, 7524, 7609,\n",
       "       7655, 7670, 7705, 7724, 7778, 7788, 7804, 7811, 7840, 7900, 7936,\n",
       "       8067, 8119, 8123, 8171, 8182, 8264, 8348, 8367, 8368, 8456, 8561,\n",
       "       8665, 8702, 8889, 8897, 8922, 8971, 8973, 8976, 9008, 9019, 9046,\n",
       "       9050, 9105, 9162, 9239, 9282, 9284, 9325, 9366, 9430, 9437, 9448,\n",
       "       9525, 9558, 9582, 9597, 9618, 9740, 9919])"
      ]
     },
     "execution_count": 945,
     "metadata": {},
     "output_type": "execute_result"
    }
   ],
   "source": [
    "f=np.array([failnow(0.01,time) for time in range(10000)])\n",
    "(10000-sum(f==0)) /10000\n",
    "# failtime=\n",
    "f[f!=0]"
   ]
  },
  {
   "cell_type": "code",
   "execution_count": 946,
   "metadata": {},
   "outputs": [
    {
     "data": {
      "text/plain": [
       "<matplotlib.collections.PathCollection at 0x2130b825a90>"
      ]
     },
     "execution_count": 946,
     "metadata": {},
     "output_type": "execute_result"
    },
    {
     "data": {
      "image/png": "[encoded data removed]",
      "text/plain": [
       "<Figure size 640x480 with 1 Axes>"
      ]
     },
     "metadata": {},
     "output_type": "display_data"
    }
   ],
   "source": [
    "plt.scatter([time for time in range(10000)],[failnow(0.01,time) for time in range(10000)])"
   ]
  }
 ],
 "metadata": {
  "kernelspec": {
   "display_name": "Python 3",
   "language": "python",
   "name": "python3"
  },
  "language_info": {
   "codemirror_mode": {
    "name": "ipython",
    "version": 3
   },
   "file_extension": ".py",
   "mimetype": "text/x-python",
   "name": "python",
   "nbconvert_exporter": "python",
   "pygments_lexer": "ipython3",
   "version": "3.12.1"
  }
 },
 "nbformat": 4,
 "nbformat_minor": 2
}
