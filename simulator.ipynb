{
 "cells": [
  {
   "cell_type": "code",
   "execution_count": 993,
   "metadata": {},
   "outputs": [],
   "source": [
    "import numpy as np\n",
    "import matplotlib.pyplot as plt"
   ]
  },
  {
   "cell_type": "code",
   "execution_count": 994,
   "metadata": {},
   "outputs": [],
   "source": [
    "# modelling the arrival process\n",
    "# per second converyor belt\n",
    "# c1 uses the distribution that tells us how likely the time of the next arrival\n",
    "# a random value. "
   ]
  },
  {
   "cell_type": "code",
   "execution_count": 995,
   "metadata": {},
   "outputs": [],
   "source": [
    "# Exponential Random Number Algorithm\n",
    "def poisson_est(mean):\n",
    "    r=np.exp(-mean)\n",
    "    N=0.0\n",
    "    s=1.0\n",
    "    s*=np.random.random()\n",
    "    while s>r:\n",
    "        N+=1\n",
    "        s*=np.random.random()\n",
    "    else:\n",
    "        return int(N)"
   ]
  },
  {
   "cell_type": "code",
   "execution_count": 996,
   "metadata": {},
   "outputs": [],
   "source": [
    "# total number of entities conveyor1 delivers per second for 1000 seconds\n",
    "c1sample=[poisson_est(1)  for i in range(1000)]\n"
   ]
  },
  {
   "cell_type": "code",
   "execution_count": 997,
   "metadata": {},
   "outputs": [
    {
     "data": {
      "text/plain": [
       "948"
      ]
     },
     "execution_count": 997,
     "metadata": {},
     "output_type": "execute_result"
    }
   ],
   "source": [
    "# total entities conveyor belt delivers\n",
    "totalc1=sum(c1sample)\n",
    "totalc1"
   ]
  },
  {
   "cell_type": "code",
   "execution_count": 998,
   "metadata": {},
   "outputs": [
    {
     "data": {
      "text/plain": [
       "666"
      ]
     },
     "execution_count": 998,
     "metadata": {},
     "output_type": "execute_result"
    }
   ],
   "source": [
    "def conveyor2(time):\n",
    "    # number of entities conveyor2 delivers over a given time\n",
    "    return (int(time/1.5))\n",
    "conveyor2(1000)"
   ]
  },
  {
   "cell_type": "code",
   "execution_count": 999,
   "metadata": {},
   "outputs": [],
   "source": [
    "def failtime(frate,time):\n",
    "    # per unit time\n",
    "    time=time%100\n",
    "    # cdf of failure \n",
    "    c_fail=1 - np.exp(-frate* time)\n",
    "    if(c_fail>=np.random.random()):\n",
    "        return time\n",
    "    else: \n",
    "        return 0    "
   ]
  },
  {
   "cell_type": "code",
   "execution_count": 1000,
   "metadata": {},
   "outputs": [],
   "source": [
    "def failnow(frate,time):\n",
    "    # prob of failure in next second\n",
    "    p_fail=frate*np.exp(-frate*0)+ frate*np.exp(-frate*1)\n",
    "\n",
    "    if(p_fail>=np.random.random()):\n",
    "        return time\n",
    "    else: \n",
    "        return 0 "
   ]
  },
  {
   "cell_type": "code",
   "execution_count": 1001,
   "metadata": {},
   "outputs": [
    {
     "data": {
      "text/plain": [
       "array([  12,   49,   62,   83,   88,  108,  160,  166,  172,  180,  260,\n",
       "        341,  350,  363,  412,  414,  461,  474,  510,  571,  597,  638,\n",
       "        642,  654,  657,  680,  974,  982,  990, 1076, 1187, 1243, 1245,\n",
       "       1341, 1404, 1667, 1724, 1808, 1814, 1935, 2023, 2055, 2062, 2128,\n",
       "       2132, 2153, 2322, 2406, 2490, 2504, 2513, 2514, 2716, 2737, 2811,\n",
       "       2824, 2910, 2988, 3072, 3115, 3169, 3170, 3277, 3288, 3363, 3426,\n",
       "       3453, 3547, 3555, 3698, 3739, 3785, 3831, 3842, 3860, 3927, 4002,\n",
       "       4044, 4104, 4114, 4335, 4367, 4431, 4434, 4465, 4466, 4487, 4508,\n",
       "       4562, 4660, 4662, 4663, 4744, 5026, 5043, 5172, 5304, 5363, 5385,\n",
       "       5405, 5421, 5425, 5449, 5468, 5484, 5497, 5498, 5525, 5527, 5586,\n",
       "       5657, 5751, 5760, 5769, 5869, 5924, 5927, 5939, 6087, 6093, 6141,\n",
       "       6266, 6325, 6356, 6370, 6380, 6403, 6441, 6633, 6652, 6656, 6699,\n",
       "       6761, 6837, 6903, 7062, 7100, 7110, 7131, 7204, 7276, 7292, 7308,\n",
       "       7338, 7350, 7387, 7436, 7473, 7476, 7536, 7610, 7669, 7683, 7751,\n",
       "       7791, 7866, 7933, 7945, 7959, 8002, 8012, 8049, 8058, 8083, 8097,\n",
       "       8128, 8190, 8232, 8254, 8354, 8459, 8539, 8568, 8674, 8762, 8850,\n",
       "       8855, 8872, 8956, 8985, 9135, 9145, 9251, 9346, 9404, 9415, 9427,\n",
       "       9457, 9500, 9513, 9618, 9662, 9697, 9715, 9775, 9832, 9883, 9924,\n",
       "       9977])"
      ]
     },
     "execution_count": 1001,
     "metadata": {},
     "output_type": "execute_result"
    }
   ],
   "source": [
    "f=np.array([failnow(0.01,time) for time in range(10000)])\n",
    "(10000-sum(f==0)) /10000\n",
    "# failtime=\n",
    "f[f!=0]"
   ]
  },
  {
   "cell_type": "code",
   "execution_count": 1002,
   "metadata": {},
   "outputs": [
    {
     "data": {
      "text/plain": [
       "[<matplotlib.lines.Line2D at 0x1f6f7006ab0>]"
      ]
     },
     "execution_count": 1002,
     "metadata": {},
     "output_type": "execute_result"
    },
    {
     "data": {
      "image/png": "[encoded data removed]",
      "text/plain": [
       "<Figure size 640x480 with 1 Axes>"
      ]
     },
     "metadata": {},
     "output_type": "display_data"
    }
   ],
   "source": [
    "f=f%100\n",
    "plt.plot(np.arange(0,10000),f)"
   ]
  },
  {
   "cell_type": "code",
   "execution_count": 1003,
   "metadata": {},
   "outputs": [],
   "source": [
    "# for each second, check the \n",
    "def simulate(time):\n",
    "    C1event=[]\n",
    "    stationFailures=[]\n",
    "    completed=0\n",
    "    downtime=0\n",
    "    # stacks to count waiting entities at each conveyour belt C\n",
    "    stackC1=[]\n",
    "    stackC2=[]\n",
    "    def stackpop(stackC1,stackC2):\n",
    "        if stackC2[-1]==1:\n",
    "            stackC2.pop()\n",
    "        else:\n",
    "            stackC2[-1]-=1 \n",
    "        \n",
    "        if stackC1[-1]==1:\n",
    "            stackC1.pop() \n",
    "        else:\n",
    "            stackC1[-1]==1\n",
    "            \n",
    "    def addtoC1(time_index,stackC1,C1event):\n",
    "            if not stackC1:\n",
    "                stackC1.append(C1event[time_index])\n",
    "            else:\n",
    "                # print(time_index,C1event[time_index],stackC1[-1],stackC2)\n",
    "                stackC1.append(C1event[time_index]+stackC1[-1])\n",
    "\n",
    "    # add a entity to the stack every 1.5 seconds\n",
    "    def addtoC2(time_index,stackC2):\n",
    "        if (time_index==0):pass\n",
    "        if time_index%1.5==0 or (time_index-0.5)%1.5==0:\n",
    "            if len(stackC2)==0:\n",
    "                stackC2.append(1)\n",
    "            else:\n",
    "                stackC2.append(stackC2[-1]+1)\n",
    "\n",
    "\n",
    "# simulate events with respect to random variables\n",
    "    for t in np.arange(time):\n",
    "        C1event.append(poisson_est(1))\n",
    "        stationFailures.append(failnow(0.01,t))\n",
    "\n",
    "    for time_index in np.arange(time):\n",
    "        if time_index>time-1:\n",
    "            return completed\n",
    "        \n",
    "        addtoC1(time_index,stackC1,C1event)\n",
    "        addtoC2(time_index,stackC2)\n",
    "\n",
    "        # if both parts are ready\n",
    "        if stackC1 and stackC2 and stackC1[-1]>0 and stackC2[-1]>0:\n",
    "            # check if the machine is not working\n",
    "            if stationFailures[time_index]>0:\n",
    "                for standyby in range(0,5):\n",
    "                    curr=standyby+time_index+1\n",
    "                    # conveyors run during downtime\n",
    "                    addtoC1(curr,stackC1,C1event)\n",
    "                    addtoC2(curr,stackC2)\n",
    "                downtime+=5\n",
    "                # machine fails close to the end of the testing time\n",
    "                if time_index+5>=time-1:\n",
    "                    return completed\n",
    "\n",
    "                # count continues 5 seconds after\n",
    "                time_index+=5\n",
    "                stackpop(stackC1,stackC2)\n",
    "            \n",
    "                completed+=1\n",
    "            else: #if the machine is working\n",
    "                # do this or a while loop - while there are parts\n",
    "                stackpop(stackC1,stackC2)\n",
    "                completed+=1\n",
    "        # print(\"\\npost\\nstackc2\",stackC2,\"\\nstackc1\",stackC1,'\\ntime',time_index,'\\n',completed,'\\n\\n')\n",
    "    return completed,downtime"
   ]
  },
  {
   "cell_type": "code",
   "execution_count": 1004,
   "metadata": {},
   "outputs": [
    {
     "data": {
      "text/plain": [
       "(8, 0)"
      ]
     },
     "execution_count": 1004,
     "metadata": {},
     "output_type": "execute_result"
    }
   ],
   "source": [
    "simulate(10)"
   ]
  },
  {
   "cell_type": "code",
   "execution_count": 1005,
   "metadata": {},
   "outputs": [],
   "source": [
    "# will station1 do all work available instantly or one per unit time, while loop or one per iteration\n",
    "# can parts + downtime> total time\n",
    "# end behavior, produce or no\n"
   ]
  }
 ],
 "metadata": {
  "kernelspec": {
   "display_name": "Python 3",
   "language": "python",
   "name": "python3"
  },
  "language_info": {
   "codemirror_mode": {
    "name": "ipython",
    "version": 3
   },
   "file_extension": ".py",
   "mimetype": "text/x-python",
   "name": "python",
   "nbconvert_exporter": "python",
   "pygments_lexer": "ipython3",
   "version": "3.12.1"
  }
 },
 "nbformat": 4,
 "nbformat_minor": 2
}
