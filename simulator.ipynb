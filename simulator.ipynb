{
 "cells": [
  {
   "cell_type": "code",
   "execution_count": 2058,
   "metadata": {},
   "outputs": [],
   "source": [
    "import numpy as np\n",
    "import matplotlib.pyplot as plt"
   ]
  },
  {
   "cell_type": "code",
   "execution_count": 2059,
   "metadata": {},
   "outputs": [],
   "source": [
    "# modelling the arrival process\n",
    "\n",
    "# per second converyor belt\n",
    "\n",
    "conveyor1=1\n",
    "# c1 uses the distribution that tells us how likely the time of the next arrival\n",
    "# a random value. \n",
    "conveyor2=2/3\n",
    "\n",
    "stationFailrate=0.01\n",
    "stationmean=1/stationFailrate"
   ]
  },
  {
   "cell_type": "code",
   "execution_count": 2060,
   "metadata": {},
   "outputs": [],
   "source": [
    "# Exponential Random Number Algorithm\n",
    "def poisson_est(mean):\n",
    "    r=np.exp(-mean)\n",
    "    N=0.0\n",
    "    s=1.0\n",
    "    s*=np.random.random()\n",
    "    while s>r:\n",
    "        N+=1\n",
    "        s*=np.random.random()\n",
    "    else:\n",
    "        return N"
   ]
  },
  {
   "cell_type": "code",
   "execution_count": 2061,
   "metadata": {},
   "outputs": [],
   "source": [
    "# total number of entities conveyor1 delivers per second for 1000 seconds\n",
    "c1sample=[poisson_est(1)  for i in range(1000)]\n"
   ]
  },
  {
   "cell_type": "code",
   "execution_count": 2062,
   "metadata": {},
   "outputs": [
    {
     "data": {
      "text/plain": [
       "967.0"
      ]
     },
     "execution_count": 2062,
     "metadata": {},
     "output_type": "execute_result"
    }
   ],
   "source": [
    "# total entities conveyor belt delivers\n",
    "totalc1=sum(c1sample)\n",
    "totalc1"
   ]
  },
  {
   "cell_type": "code",
   "execution_count": 2063,
   "metadata": {},
   "outputs": [
    {
     "data": {
      "text/plain": [
       "666"
      ]
     },
     "execution_count": 2063,
     "metadata": {},
     "output_type": "execute_result"
    }
   ],
   "source": [
    "def conveyor2(time):\n",
    "    # number of entities conveyor2 delivers over a given time\n",
    "    return (int(time/1.5))\n",
    "conveyor2(1000)"
   ]
  },
  {
   "cell_type": "code",
   "execution_count": 2064,
   "metadata": {},
   "outputs": [],
   "source": [
    "def failtime(frate,time):\n",
    "    # per unit time\n",
    "    time=time%100\n",
    "    # cdf of failure \n",
    "    c_fail=1 - np.exp(-frate* time)\n",
    "    if(c_fail>=np.random.random()):\n",
    "        return time\n",
    "    else: \n",
    "        return 0    "
   ]
  },
  {
   "cell_type": "code",
   "execution_count": 2065,
   "metadata": {},
   "outputs": [],
   "source": [
    "def failnow(frate,time):\n",
    "    # prob of failure in next second\n",
    "    p_fail=frate*np.exp(-frate*0)+ frate*np.exp(-frate*1)\n",
    "\n",
    "    if(p_fail>=np.random.random()):\n",
    "        return time\n",
    "    else: \n",
    "        return 0 "
   ]
  },
  {
   "cell_type": "code",
   "execution_count": 2066,
   "metadata": {},
   "outputs": [
    {
     "data": {
      "text/plain": [
       "array([  72,   85,  114,  202,  267,  277,  302,  320,  323,  347,  352,\n",
       "        423,  664,  852,  879,  921,  989, 1028, 1097, 1125, 1137, 1153,\n",
       "       1163, 1264, 1275, 1298, 1342, 1351, 1364, 1428, 1447, 1487, 1498,\n",
       "       1513, 1568, 1619, 1650, 1676, 1767, 1769, 1782, 1795, 1940, 1977,\n",
       "       1984, 2010, 2030, 2148, 2218, 2250, 2319, 2352, 2401, 2474, 2565,\n",
       "       2633, 2666, 2702, 2713, 2742, 3024, 3048, 3114, 3308, 3314, 3323,\n",
       "       3379, 3384, 3406, 3447, 3473, 3521, 3577, 3599, 3611, 3900, 3923,\n",
       "       3992, 4011, 4088, 4114, 4151, 4172, 4235, 4296, 4329, 4337, 4549,\n",
       "       4556, 4590, 4630, 4638, 4639, 4736, 4753, 4754, 4758, 4810, 4905,\n",
       "       4911, 5020, 5047, 5049, 5132, 5143, 5199, 5224, 5248, 5260, 5307,\n",
       "       5415, 5429, 5529, 5562, 5576, 5618, 5662, 5802, 5811, 5981, 6044,\n",
       "       6115, 6124, 6138, 6140, 6143, 6160, 6178, 6269, 6303, 6467, 6474,\n",
       "       6477, 6489, 6573, 6575, 6598, 6642, 6666, 6741, 6892, 6928, 6960,\n",
       "       7137, 7179, 7192, 7199, 7229, 7346, 7452, 7511, 7520, 7532, 7599,\n",
       "       7693, 7705, 7709, 7730, 7736, 7793, 7877, 7893, 7946, 7997, 8067,\n",
       "       8148, 8163, 8187, 8214, 8228, 8232, 8236, 8355, 8356, 8428, 8441,\n",
       "       8512, 8527, 8633, 8683, 8700, 8805, 8845, 8861, 8988, 9090, 9272,\n",
       "       9297, 9320, 9392, 9444, 9536, 9585, 9591, 9639, 9732, 9765, 9774,\n",
       "       9827, 9840, 9893, 9894, 9968, 9994])"
      ]
     },
     "execution_count": 2066,
     "metadata": {},
     "output_type": "execute_result"
    }
   ],
   "source": [
    "f=np.array([failnow(0.01,time) for time in range(10000)])\n",
    "(10000-sum(f==0)) /10000\n",
    "# failtime=\n",
    "f[f!=0]\n",
    "\n"
   ]
  },
  {
   "cell_type": "code",
   "execution_count": 2067,
   "metadata": {},
   "outputs": [
    {
     "data": {
      "text/plain": [
       "[<matplotlib.lines.Line2D at 0x21b3e2d7a70>]"
      ]
     },
     "execution_count": 2067,
     "metadata": {},
     "output_type": "execute_result"
    },
    {
     "data": {
      "image/png": "[encoded data removed]",
      "text/plain": [
       "<Figure size 640x480 with 1 Axes>"
      ]
     },
     "metadata": {},
     "output_type": "display_data"
    }
   ],
   "source": [
    "f=f%100\n",
    "plt.plot(np.arange(0,10000),f)"
   ]
  },
  {
   "cell_type": "code",
   "execution_count": 2068,
   "metadata": {},
   "outputs": [],
   "source": [
    "# for each second, check the \n",
    "def simulate(time):\n",
    "    C1event=[]\n",
    "    stationFailures=[]\n",
    "    completed=0\n",
    "    downtime=0\n",
    "    # stacks to count waiting entities at each conveyour belt C\n",
    "    stackC1=[]\n",
    "    stackC2=[]\n",
    "    def stackpop(stackC1,stackC2):\n",
    "        if stackC2[-1]==1:\n",
    "            stackC2.pop()\n",
    "        else:\n",
    "            stackC2[-1]-=1 \n",
    "        \n",
    "        if stackC1[-1]==1:\n",
    "            stackC1.pop() \n",
    "        else:\n",
    "            stackC1[-1]==1\n",
    "            \n",
    "    def addtoC1(time_index,stackC1,C1event):\n",
    "            if len(stackC1)==0:\n",
    "                stackC1.append(C1event[time_index])\n",
    "            else:\n",
    "                stackC1.append(C1event[time_index]+stackC1[-1])\n",
    "\n",
    "    # add a entity to the stack every 1.5 seconds\n",
    "    def addtoC2(time_index,stackC2):\n",
    "        if time_index%1.5==0:\n",
    "            if len(stackC2)==0:\n",
    "                stackC2.append(1)\n",
    "            else:\n",
    "                stackC2.append(stackC2[-1]+1)\n",
    "\n",
    "\n",
    "# simulate events with respect to random variables\n",
    "    for t in np.arange(time):\n",
    "        C1event.append(poisson_est(1))\n",
    "        stationFailures.append(failnow(0.01,t))\n",
    "\n",
    "    for time_index in np.arange(time):\n",
    "        \n",
    "        addtoC1(time_index,stackC1,C1event)\n",
    "        addtoC2(time_index,stackC2)\n",
    "\n",
    "        # if both parts are ready\n",
    "        if stackC1 and stackC2 and stackC1[-1]>0 and stackC2[-1]>0:\n",
    "            # check if the machine is working\n",
    "            if stationFailures[time_index]>0:\n",
    "                for standyby in range(1,6):\n",
    "                    curr=standyby+time_index\n",
    "                    # conveyors run during downtime\n",
    "                    addtoC1(curr,stackC1,C1event)\n",
    "                    addtoC2(curr,stackC2)\n",
    "                downtime+=5\n",
    "                # machine fails close to the end of the testing time\n",
    "                if time_index+5>=time-1:\n",
    "                    return completed\n",
    "\n",
    "                # count continues 5 seconds after\n",
    "                time_index+=5\n",
    "                stackpop(stackC1,stackC2)\n",
    "            \n",
    "                completed+=1\n",
    "            else: #if the machine is working\n",
    "                # do this or a while loop - while there are parts\n",
    "                stackpop(stackC1,stackC2)\n",
    "                completed+=1\n",
    "        # print(\"\\npost\\nstackc2\",stackC2,\"\\nstackc1\",stackC1,'\\ntime',time_index,'\\n',completed,'\\n\\n')\n",
    "    return completed,downtime\n",
    "\n"
   ]
  },
  {
   "cell_type": "code",
   "execution_count": 2069,
   "metadata": {},
   "outputs": [
    {
     "data": {
      "text/plain": [
       "(34, 0)"
      ]
     },
     "execution_count": 2069,
     "metadata": {},
     "output_type": "execute_result"
    }
   ],
   "source": [
    "simulate(100)"
   ]
  },
  {
   "cell_type": "code",
   "execution_count": 2070,
   "metadata": {},
   "outputs": [],
   "source": [
    "# will station1 do all work available instantly or one per unit time, while loop or one per iteration\n",
    "# can parts + downtime> total time\n",
    "# end behavior, produce or no\n",
    "\n"
   ]
  }
 ],
 "metadata": {
  "kernelspec": {
   "display_name": "Python 3",
   "language": "python",
   "name": "python3"
  },
  "language_info": {
   "codemirror_mode": {
    "name": "ipython",
    "version": 3
   },
   "file_extension": ".py",
   "mimetype": "text/x-python",
   "name": "python",
   "nbconvert_exporter": "python",
   "pygments_lexer": "ipython3",
   "version": "3.12.1"
  }
 },
 "nbformat": 4,
 "nbformat_minor": 2
}
