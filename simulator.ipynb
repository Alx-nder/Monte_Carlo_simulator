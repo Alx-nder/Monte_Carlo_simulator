{
 "cells": [
  {
   "cell_type": "code",
   "execution_count": 1898,
   "metadata": {},
   "outputs": [],
   "source": [
    "import numpy as np\n",
    "import matplotlib.pyplot as plt"
   ]
  },
  {
   "cell_type": "code",
   "execution_count": 1899,
   "metadata": {},
   "outputs": [],
   "source": [
    "# modelling the arrival process\n",
    "# per second converyor belt\n",
    "# c1 uses the distribution that tells us how likely the time of the next arrival\n",
    "# a random value. "
   ]
  },
  {
   "cell_type": "code",
   "execution_count": 1900,
   "metadata": {},
   "outputs": [],
   "source": [
    "# Exponential Random Number Algorithm\n",
    "def poisson_est(mean):\n",
    "    r=np.exp(-mean)\n",
    "    N=0.0\n",
    "    s=1.0\n",
    "    s*=np.random.random()\n",
    "    while s>r:\n",
    "        N+=1\n",
    "        s*=np.random.random()\n",
    "    else:\n",
    "        return int(N)"
   ]
  },
  {
   "cell_type": "code",
   "execution_count": 1901,
   "metadata": {},
   "outputs": [
    {
     "data": {
      "text/plain": [
       "[0, 0, 3, 2, 2, 0, 2, 1, 1, 2]"
      ]
     },
     "execution_count": 1901,
     "metadata": {},
     "output_type": "execute_result"
    }
   ],
   "source": [
    "# total number of entities conveyor1 delivers per second for 1000 seconds\n",
    "c1sample=[poisson_est(1)  for i in range(10)]\n",
    "np.array(c1sample).mean()\n",
    "c1sample\n"
   ]
  },
  {
   "cell_type": "code",
   "execution_count": 1902,
   "metadata": {},
   "outputs": [
    {
     "data": {
      "text/plain": [
       "13"
      ]
     },
     "execution_count": 1902,
     "metadata": {},
     "output_type": "execute_result"
    }
   ],
   "source": [
    "# total entities conveyor belt delivers\n",
    "totalc1=sum(c1sample)\n",
    "totalc1"
   ]
  },
  {
   "cell_type": "code",
   "execution_count": 1903,
   "metadata": {},
   "outputs": [
    {
     "data": {
      "text/plain": [
       "666"
      ]
     },
     "execution_count": 1903,
     "metadata": {},
     "output_type": "execute_result"
    }
   ],
   "source": [
    "def conveyor2(time):\n",
    "    # number of entities conveyor2 delivers over a given time\n",
    "    return (int(time/1.5))\n",
    "conveyor2(1000)"
   ]
  },
  {
   "cell_type": "code",
   "execution_count": 1904,
   "metadata": {},
   "outputs": [],
   "source": [
    "def failtime(frate,time):\n",
    "    # per unit time\n",
    "    time=time%100\n",
    "    # cdf of failure \n",
    "    c_fail=1 - np.exp(-frate* time)\n",
    "    if(c_fail>=np.random.random()):\n",
    "        return time\n",
    "    else: \n",
    "        return 0    "
   ]
  },
  {
   "cell_type": "code",
   "execution_count": 1905,
   "metadata": {},
   "outputs": [],
   "source": [
    "def failnow(frate,time):\n",
    "    # prob of failure in next second\n",
    "    p_fail=frate*np.exp(-frate*0)+ frate*np.exp(-frate*1)\n",
    "\n",
    "    if(p_fail>np.random.random()):\n",
    "        return time\n",
    "    else: \n",
    "        return 0 "
   ]
  },
  {
   "cell_type": "code",
   "execution_count": 1906,
   "metadata": {},
   "outputs": [],
   "source": [
    "def fail_inverse():\n",
    "    # this gives the times between events\n",
    "    return (-1/0.01)*np.log(1-np.random.random())"
   ]
  },
  {
   "cell_type": "code",
   "execution_count": 1907,
   "metadata": {},
   "outputs": [],
   "source": [
    "# f=np.array([failnow(0.01,time) for time in range(10000)])\n",
    "f=[fail_inverse() for i in range(10000)]\n",
    "f=np.array(f).astype(int)\n",
    "f=np.cumsum(f)\n",
    "f=f[f<=10000]\n"
   ]
  },
  {
   "cell_type": "code",
   "execution_count": 1908,
   "metadata": {},
   "outputs": [
    {
     "data": {
      "text/plain": [
       "False"
      ]
     },
     "execution_count": 1908,
     "metadata": {},
     "output_type": "execute_result"
    }
   ],
   "source": [
    "81 in f\n",
    "    "
   ]
  },
  {
   "cell_type": "code",
   "execution_count": 1909,
   "metadata": {},
   "outputs": [],
   "source": [
    "# for each second, check the \n",
    "def simulate(len_time):\n",
    "    C1event=[]\n",
    "    stationFailures=[]\n",
    "    completed=0\n",
    "    downtime=0\n",
    "    # stacks to count waiting entities at each conveyour belt C\n",
    "    waitC1=0\n",
    "    waitC2=0\n",
    "\n",
    "# simulate events with respect to random variables\n",
    "    for t in np.arange(len_time):\n",
    "        C1event.append(poisson_est(1))\n",
    "        stationFailures.append((-1/0.01)*np.log(1-np.random.random()))\n",
    "    stationFailures=np.array(stationFailures).astype(int) \n",
    "    stationFailures=np.cumsum(stationFailures)\n",
    "\n",
    "# simulate machine working\n",
    "    # for time_index in timesteps:\n",
    "    time_index=1\n",
    "    while time_index<len_time:\n",
    "        # if time_index>len_time:\n",
    "        #     return completed\n",
    "\n",
    "        # update parts waiting\n",
    "        waitC1=C1event[time_index-1]+waitC1\n",
    "        if (time_index)%1.5==0 or (time_index-0.5)%1.5==0:\n",
    "            waitC2+=1\n",
    "\n",
    "        # if it is time for failure\n",
    "        if time_index in stationFailures:\n",
    "            for i in range(5):\n",
    "                time_index+=1\n",
    "                waitC1=C1event[time_index-1]+waitC1\n",
    "                if (time_index)%1.5==0 or (time_index-0.5)%1.5==0:\n",
    "                    waitC2+=1\n",
    "            downtime+=5\n",
    "        # if both parts are ready\n",
    "        if waitC1>0 and waitC2>0:\n",
    "            waitC1-=1\n",
    "            waitC2-=1\n",
    "            completed+=1\n",
    "            time_index+=1\n",
    "        else:                  \n",
    "            time_index+=1\n",
    "\n",
    "    return completed, downtime, stationFailures"
   ]
  },
  {
   "cell_type": "code",
   "execution_count": 1910,
   "metadata": {},
   "outputs": [
    {
     "data": {
      "text/plain": [
       "(666,\n",
       " 30,\n",
       " array([   416,    551,    586,    802,    848,    942,   1001,   1020,\n",
       "          1058,   1193,   1302,   1330,   1660,   1690,   1693,   1755,\n",
       "          1874,   1876,   1877,   2051,   2168,   2210,   2217,   2415,\n",
       "          2430,   2491,   2531,   2659,   2712,   2989,   3026,   3102,\n",
       "          3140,   3260,   3301,   3372,   3415,   3469,   3511,   3607,\n",
       "          3611,   3716,   3843,   4036,   4142,   4150,   4168,   4497,\n",
       "          4731,   4770,   4786,   4827,   5029,   5200,   5213,   5213,\n",
       "          5217,   5323,   5750,   5785,   5816,   6280,   6308,   6379,\n",
       "          6776,   6870,   6968,   6999,   7022,   7183,   7224,   7290,\n",
       "          7344,   7348,   7464,   7667,   7938,   7975,   8088,   8187,\n",
       "          8206,   8373,   8492,   8507,   8597,   8819,   8821,   8892,\n",
       "          8981,   9454,   9479,   9491,   9506,   9870,   9908,  10099,\n",
       "         10344,  10349,  10651,  10680,  10901,  11038,  11086,  11189,\n",
       "         11218,  11264,  11274,  11284,  11331,  11378,  11545,  11635,\n",
       "         11759,  11802,  11809,  12058,  12067,  12156,  12306,  12432,\n",
       "         12525,  12574,  12614,  12664,  12714,  12736,  12865,  12921,\n",
       "         12949,  12993,  13073,  13159,  13720,  13747,  13838,  13867,\n",
       "         13974,  14134,  14214,  14233,  14382,  14438,  14443,  14451,\n",
       "         14452,  14537,  14581,  14609,  14639,  15021,  15089,  15255,\n",
       "         15273,  15316,  15394,  15495,  15667,  16084,  16108,  16133,\n",
       "         16228,  16271,  16395,  16411,  16650,  16717,  16735,  16792,\n",
       "         16795,  16827,  16973,  17136,  17192,  17350,  17759,  17862,\n",
       "         18125,  18393,  18432,  18568,  18624,  18928,  18990,  19114,\n",
       "         19164,  19259,  19279,  19344,  19370,  19371,  19433,  19461,\n",
       "         19551,  19595,  19679,  19906,  19970,  20026,  20115,  20346,\n",
       "         20491,  20549,  20562,  20731,  20775,  20794,  20867,  21098,\n",
       "         21341,  21489,  21555,  21672,  21726,  21736,  21845,  21850,\n",
       "         21924,  22001,  22015,  22036,  22064,  22069,  22251,  22448,\n",
       "         22454,  22513,  22654,  22881,  22940,  22959,  23156,  23191,\n",
       "         23268,  23590,  23790,  24153,  24157,  24317,  24321,  24410,\n",
       "         24565,  24566,  24574,  24616,  24749,  24800,  24854,  24933,\n",
       "         25318,  25354,  25389,  25431,  25568,  25707,  25737,  25760,\n",
       "         25814,  25961,  25972,  26068,  26147,  26152,  26438,  26560,\n",
       "         26619,  26629,  26705,  26771,  27065,  27069,  27166,  27174,\n",
       "         27249,  27249,  27592,  27662,  27736,  27784,  28141,  28394,\n",
       "         28458,  28644,  28793,  28802,  28955,  28962,  29118,  29367,\n",
       "         29443,  29528,  29541,  29743,  29823,  30001,  30206,  30229,\n",
       "         30258,  30356,  30428,  30753,  30955,  30957,  30982,  31090,\n",
       "         31191,  31363,  31417,  31514,  31656,  31760,  31779,  31831,\n",
       "         31944,  32427,  32444,  32497,  32616,  32712,  32894,  32894,\n",
       "         32943,  32958,  32964,  33447,  33610,  33662,  33779,  33792,\n",
       "         33800,  33965,  34009,  34079,  34117,  34144,  34287,  34407,\n",
       "         34409,  34667,  34709,  34887,  35043,  35077,  35083,  35090,\n",
       "         35267,  35274,  35777,  35958,  36422,  36476,  36623,  36645,\n",
       "         36669,  37105,  37119,  37123,  37478,  37524,  37669,  37772,\n",
       "         37842,  37907,  38024,  38079,  38288,  38347,  38449,  38538,\n",
       "         38583,  38584,  38790,  38988,  39277,  39964,  40066,  40256,\n",
       "         40305,  40386,  40389,  40542,  40728,  40741,  40743,  40751,\n",
       "         40801,  40876,  40892,  41104,  41228,  41375,  41411,  41425,\n",
       "         41442,  41504,  41620,  41702,  41740,  41742,  42017,  42123,\n",
       "         42165,  42171,  42235,  42342,  42460,  42615,  42628,  42641,\n",
       "         42754,  42875,  42914,  43140,  43220,  43293,  43479,  43504,\n",
       "         43596,  43833,  43858,  44419,  44553,  44861,  44996,  45011,\n",
       "         45035,  45054,  45342,  45541,  45592,  45686,  45894,  45961,\n",
       "         46052,  46302,  46460,  46567,  46813,  46878,  47009,  47180,\n",
       "         47245,  47365,  47382,  47431,  47537,  47585,  47624,  47634,\n",
       "         47832,  47876,  47912,  48154,  48167,  48284,  48359,  48474,\n",
       "         48507,  48576,  48845,  48894,  48922,  49054,  49236,  49295,\n",
       "         49318,  49339,  49522,  49679,  49683,  49796,  49797,  50055,\n",
       "         50123,  50139,  50412,  50553,  50554,  50555,  50659,  50679,\n",
       "         50749,  50761,  50832,  50950,  51242,  51333,  51462,  51819,\n",
       "         51885,  51971,  51971,  52120,  52180,  52188,  52497,  52590,\n",
       "         52628,  52647,  52865,  52985,  53023,  53112,  53324,  53423,\n",
       "         53544,  53572,  54054,  54065,  54520,  54594,  54674,  54719,\n",
       "         54799,  54894,  54997,  55072,  55371,  55548,  55559,  55572,\n",
       "         55681,  55732,  55772,  56133,  56344,  56433,  56595,  56596,\n",
       "         56698,  56713,  56862,  56974,  57284,  57388,  57399,  57850,\n",
       "         57982,  58022,  58050,  58091,  58187,  58249,  58347,  58591,\n",
       "         58622,  58714,  58882,  58918,  59009,  59284,  59300,  59502,\n",
       "         59560,  59562,  59815,  59908,  60077,  60243,  60357,  60358,\n",
       "         60483,  60530,  60561,  60621,  60692,  60813,  60829,  60971,\n",
       "         61102,  61566,  61594,  61712,  61760,  61904,  61904,  61938,\n",
       "         61986,  62090,  62112,  62129,  62242,  62291,  62357,  62448,\n",
       "         62530,  62558,  62623,  62713,  62879,  62941,  62956,  63099,\n",
       "         63137,  63410,  63523,  63663,  63858,  64084,  64251,  64308,\n",
       "         64602,  64629,  64688,  64728,  64766,  64807,  64817,  64868,\n",
       "         64891,  65024,  65250,  65250,  65371,  65549,  65593,  65634,\n",
       "         65804,  65852,  65924,  65941,  66022,  66132,  66176,  66528,\n",
       "         66763,  66794,  67196,  67207,  67221,  67353,  67387,  67572,\n",
       "         67631,  67683,  67725,  67748,  67749,  67898,  67939,  67962,\n",
       "         67976,  68138,  68193,  68329,  68349,  68368,  68381,  68541,\n",
       "         68594,  68919,  69435,  69508,  69509,  69520,  69739,  69770,\n",
       "         69892,  69936,  70092,  70110,  70656,  70713,  70820,  70937,\n",
       "         71005,  71020,  71078,  71082,  71168,  71235,  71242,  71378,\n",
       "         71443,  71476,  71506,  71563,  72000,  72025,  72116,  72123,\n",
       "         72134,  72184,  72258,  72271,  72525,  72540,  72574,  72598,\n",
       "         73008,  73080,  73339,  73747,  73798,  73885,  74032,  74154,\n",
       "         74272,  74289,  74307,  74372,  74374,  74418,  74450,  74490,\n",
       "         74596,  74644,  74661,  74818,  74890,  74902,  75023,  75114,\n",
       "         75148,  75159,  75174,  75364,  75365,  75563,  75565,  75714,\n",
       "         75719,  75827,  75916,  75937,  75937,  76143,  76232,  76273,\n",
       "         76360,  76360,  76719,  76809,  76901,  77041,  77047,  77295,\n",
       "         77316,  77519,  77543,  77566,  77614,  77675,  77743,  77786,\n",
       "         77885,  77989,  77992,  78013,  78145,  78297,  78358,  78435,\n",
       "         78563,  78592,  78751,  79040,  79157,  79194,  79277,  79295,\n",
       "         79359,  79365,  79388,  79529,  79569,  79574,  79874,  79951,\n",
       "         79977,  79988,  80164,  80294,  80327,  80344,  80348,  80464,\n",
       "         80541,  80568,  80585,  80656,  80673,  80719,  80830,  80848,\n",
       "         81010,  81015,  81111,  81142,  81179,  81197,  81318,  81341,\n",
       "         81555,  81590,  81782,  81945,  82068,  82106,  82131,  82241,\n",
       "         82419,  82428,  82432,  82460,  82491,  82558,  82558,  82620,\n",
       "         82744,  82783,  82823,  82840,  82849,  83046,  83075,  83233,\n",
       "         83418,  83418,  83565,  83591,  83678,  83748,  83800,  83812,\n",
       "         83867,  83960,  84119,  84260,  84275,  84327,  84441,  84632,\n",
       "         84772,  84801,  84870,  85025,  85202,  85455,  85858,  85888,\n",
       "         85974,  86188,  86380,  86399,  86668,  86804,  87028,  87142,\n",
       "         87180,  87383,  87891,  88026,  88180,  88222,  88250,  88366,\n",
       "         88378,  88411,  88450,  88716,  88750,  88765,  88907,  89043,\n",
       "         89379,  89428,  89732,  89967,  90112,  90308,  90512,  90527,\n",
       "         90576,  90644,  90749,  90840,  90910,  91047,  91144,  91223,\n",
       "         91225,  91316,  91494,  91521,  91531,  91687,  91701,  91762,\n",
       "         92029,  92066,  92074,  92206,  92213,  92283,  92302,  92347,\n",
       "         92375,  92455,  92511,  92519,  92598,  92670,  92720,  92900,\n",
       "         92924,  93006,  93200,  93256,  93473,  93485,  93505,  93720,\n",
       "         94134,  94315,  94325,  94359,  94440,  94490,  94591,  94699,\n",
       "         94732,  94781,  94899,  94961,  95181,  95217,  95417,  95447,\n",
       "         95526,  95614,  95635,  95918,  96027,  96238,  96239,  96335,\n",
       "         96402,  96496,  96528,  96554,  96685,  96686,  96701,  96725,\n",
       "         96742,  96981,  96998,  97034,  97227,  97256,  97308,  97431,\n",
       "         97558,  97585,  97622,  97637,  97786,  97853,  97901,  98008,\n",
       "         98044,  98071,  98097,  98311,  98357,  98489,  98540,  98820,\n",
       "         99056,  99079,  99109,  99197,  99307,  99419,  99520,  99745,\n",
       "         99768,  99855,  99922, 100308, 100633, 100648, 100743, 100746,\n",
       "        101074, 101244, 101251, 101538, 101661, 101706, 101714, 101956,\n",
       "        102273, 102416, 102466, 102478, 102488, 102639, 102654, 102677]))"
      ]
     },
     "execution_count": 1910,
     "metadata": {},
     "output_type": "execute_result"
    }
   ],
   "source": [
    "simulate(1000)"
   ]
  },
  {
   "cell_type": "code",
   "execution_count": 1911,
   "metadata": {},
   "outputs": [],
   "source": [
    "# will station1 do all work available instantly or one per unit time, while loop or one per iteration\n",
    "# can parts + downtime> total time\n",
    "# end behavior, produce or no"
   ]
  },
  {
   "cell_type": "code",
   "execution_count": 1912,
   "metadata": {},
   "outputs": [
    {
     "name": "stdout",
     "output_type": "stream",
     "text": [
      "1\n"
     ]
    },
    {
     "ename": "IndexError",
     "evalue": "index 3 is out of bounds for axis 0 with size 3",
     "output_type": "error",
     "traceback": [
      "\u001b[1;31m---------------------------------------------------------------------------\u001b[0m",
      "\u001b[1;31mIndexError\u001b[0m                                Traceback (most recent call last)",
      "Cell \u001b[1;32mIn[1912], line 3\u001b[0m\n\u001b[0;32m      1\u001b[0m list_of_numbers\u001b[38;5;241m=\u001b[39mnp\u001b[38;5;241m.\u001b[39marray([\u001b[38;5;241m1\u001b[39m,\u001b[38;5;241m2\u001b[39m,\u001b[38;5;241m3\u001b[39m,\u001b[38;5;241m4\u001b[39m])\n\u001b[0;32m      2\u001b[0m \u001b[38;5;28;01mfor\u001b[39;00m i \u001b[38;5;129;01min\u001b[39;00m list_of_numbers:\n\u001b[1;32m----> 3\u001b[0m     list_of_numbers \u001b[38;5;241m=\u001b[39m \u001b[43mnp\u001b[49m\u001b[38;5;241;43m.\u001b[39;49m\u001b[43mdelete\u001b[49m\u001b[43m(\u001b[49m\u001b[43mlist_of_numbers\u001b[49m\u001b[43m,\u001b[49m\u001b[43mi\u001b[49m\u001b[38;5;241;43m+\u001b[39;49m\u001b[38;5;241;43m1\u001b[39;49m\u001b[43m)\u001b[49m  \u001b[38;5;66;03m# making the list shorter!\u001b[39;00m\n\u001b[0;32m      4\u001b[0m     \u001b[38;5;28mprint\u001b[39m(i)\n",
      "File \u001b[1;32mc:\\Users\\Tyreek ALEXANDER\\AppData\\Local\\Programs\\Python\\Python312\\Lib\\site-packages\\numpy\\lib\\function_base.py:5329\u001b[0m, in \u001b[0;36mdelete\u001b[1;34m(arr, obj, axis)\u001b[0m\n\u001b[0;32m   5326\u001b[0m \u001b[38;5;28;01mif\u001b[39;00m single_value:\n\u001b[0;32m   5327\u001b[0m     \u001b[38;5;66;03m# optimization for a single value\u001b[39;00m\n\u001b[0;32m   5328\u001b[0m     \u001b[38;5;28;01mif\u001b[39;00m (obj \u001b[38;5;241m<\u001b[39m \u001b[38;5;241m-\u001b[39mN \u001b[38;5;129;01mor\u001b[39;00m obj \u001b[38;5;241m>\u001b[39m\u001b[38;5;241m=\u001b[39m N):\n\u001b[1;32m-> 5329\u001b[0m         \u001b[38;5;28;01mraise\u001b[39;00m \u001b[38;5;167;01mIndexError\u001b[39;00m(\n\u001b[0;32m   5330\u001b[0m             \u001b[38;5;124m\"\u001b[39m\u001b[38;5;124mindex \u001b[39m\u001b[38;5;132;01m%i\u001b[39;00m\u001b[38;5;124m is out of bounds for axis \u001b[39m\u001b[38;5;132;01m%i\u001b[39;00m\u001b[38;5;124m with \u001b[39m\u001b[38;5;124m\"\u001b[39m\n\u001b[0;32m   5331\u001b[0m             \u001b[38;5;124m\"\u001b[39m\u001b[38;5;124msize \u001b[39m\u001b[38;5;132;01m%i\u001b[39;00m\u001b[38;5;124m\"\u001b[39m \u001b[38;5;241m%\u001b[39m (obj, axis, N))\n\u001b[0;32m   5332\u001b[0m     \u001b[38;5;28;01mif\u001b[39;00m (obj \u001b[38;5;241m<\u001b[39m \u001b[38;5;241m0\u001b[39m):\n\u001b[0;32m   5333\u001b[0m         obj \u001b[38;5;241m+\u001b[39m\u001b[38;5;241m=\u001b[39m N\n",
      "\u001b[1;31mIndexError\u001b[0m: index 3 is out of bounds for axis 0 with size 3"
     ]
    }
   ],
   "source": [
    "list_of_numbers=np.array([1,2,3,4])\n",
    "for i in list_of_numbers:\n",
    "    list_of_numbers = np.delete(list_of_numbers,i+1)  # making the list shorter!\n",
    "    print(i)"
   ]
  }
 ],
 "metadata": {
  "kernelspec": {
   "display_name": "Python 3",
   "language": "python",
   "name": "python3"
  },
  "language_info": {
   "codemirror_mode": {
    "name": "ipython",
    "version": 3
   },
   "file_extension": ".py",
   "mimetype": "text/x-python",
   "name": "python",
   "nbconvert_exporter": "python",
   "pygments_lexer": "ipython3",
   "version": "3.12.1"
  }
 },
 "nbformat": 4,
 "nbformat_minor": 2
}
